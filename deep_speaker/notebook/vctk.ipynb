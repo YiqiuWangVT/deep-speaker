{
 "cells": [
  {
   "cell_type": "code",
   "execution_count": 1,
   "id": "4bce55b7",
   "metadata": {},
   "outputs": [
    {
     "name": "stdout",
     "output_type": "stream",
     "text": [
      "Requirement already satisfied: natsort>=7.0.1 in c:\\users\\aubreewang\\appdata\\local\\programs\\python\\python310\\lib\\site-packages (from -r C:\\Users\\AubreeWang\\deep-speaker\\requirements.txt (line 1)) (8.4.0)\n",
      "Requirement already satisfied: librosa>=0.7.2 in c:\\users\\aubreewang\\appdata\\local\\programs\\python\\python310\\lib\\site-packages (from -r C:\\Users\\AubreeWang\\deep-speaker\\requirements.txt (line 2)) (0.9.2)\n",
      "Requirement already satisfied: dill>=0.3.1.1 in c:\\users\\aubreewang\\appdata\\local\\programs\\python\\python310\\lib\\site-packages (from -r C:\\Users\\AubreeWang\\deep-speaker\\requirements.txt (line 3)) (0.3.6)\n",
      "Requirement already satisfied: python_speech_features>=0.6 in c:\\users\\aubreewang\\appdata\\local\\programs\\python\\python310\\lib\\site-packages (from -r C:\\Users\\AubreeWang\\deep-speaker\\requirements.txt (line 4)) (0.6)\n",
      "Requirement already satisfied: tqdm>=4.45.0 in c:\\users\\aubreewang\\appdata\\local\\programs\\python\\python310\\lib\\site-packages (from -r C:\\Users\\AubreeWang\\deep-speaker\\requirements.txt (line 5)) (4.64.1)\n",
      "Requirement already satisfied: click>=7.1.1 in c:\\users\\aubreewang\\appdata\\local\\programs\\python\\python310\\lib\\site-packages (from -r C:\\Users\\AubreeWang\\deep-speaker\\requirements.txt (line 6)) (8.1.3)\n",
      "Requirement already satisfied: pandas>=1.0.3 in c:\\users\\aubreewang\\appdata\\local\\programs\\python\\python310\\lib\\site-packages (from -r C:\\Users\\AubreeWang\\deep-speaker\\requirements.txt (line 7)) (1.5.1)\n",
      "Requirement already satisfied: matplotlib>=3.2.1 in c:\\users\\aubreewang\\appdata\\roaming\\python\\python310\\site-packages (from -r C:\\Users\\AubreeWang\\deep-speaker\\requirements.txt (line 8)) (3.6.3)\n",
      "Requirement already satisfied: tensorflow in c:\\users\\aubreewang\\appdata\\local\\programs\\python\\python310\\lib\\site-packages (from -r C:\\Users\\AubreeWang\\deep-speaker\\requirements.txt (line 9)) (2.10.0)\n",
      "Requirement already satisfied: Keras>=2.3.1 in c:\\users\\aubreewang\\appdata\\local\\programs\\python\\python310\\lib\\site-packages (from -r C:\\Users\\AubreeWang\\deep-speaker\\requirements.txt (line 10)) (2.10.0)\n",
      "Requirement already satisfied: numpy>=1.18.2 in c:\\users\\aubreewang\\appdata\\local\\programs\\python\\python310\\lib\\site-packages (from -r C:\\Users\\AubreeWang\\deep-speaker\\requirements.txt (line 11)) (1.23.4)\n",
      "Requirement already satisfied: numba>=0.48 in c:\\users\\aubreewang\\appdata\\local\\programs\\python\\python310\\lib\\site-packages (from -r C:\\Users\\AubreeWang\\deep-speaker\\requirements.txt (line 12)) (0.56.4)\n",
      "Requirement already satisfied: packaging>=20.0 in c:\\users\\aubreewang\\appdata\\local\\programs\\python\\python310\\lib\\site-packages (from librosa>=0.7.2->-r C:\\Users\\AubreeWang\\deep-speaker\\requirements.txt (line 2)) (21.3)\n",
      "Requirement already satisfied: scikit-learn>=0.19.1 in c:\\users\\aubreewang\\appdata\\local\\programs\\python\\python310\\lib\\site-packages (from librosa>=0.7.2->-r C:\\Users\\AubreeWang\\deep-speaker\\requirements.txt (line 2)) (1.2.0)\n",
      "Requirement already satisfied: resampy>=0.2.2 in c:\\users\\aubreewang\\appdata\\local\\programs\\python\\python310\\lib\\site-packages (from librosa>=0.7.2->-r C:\\Users\\AubreeWang\\deep-speaker\\requirements.txt (line 2)) (0.4.2)\n",
      "Requirement already satisfied: scipy>=1.2.0 in c:\\users\\aubreewang\\appdata\\local\\programs\\python\\python310\\lib\\site-packages (from librosa>=0.7.2->-r C:\\Users\\AubreeWang\\deep-speaker\\requirements.txt (line 2)) (1.10.0)\n",
      "Requirement already satisfied: soundfile>=0.10.2 in c:\\users\\aubreewang\\appdata\\local\\programs\\python\\python310\\lib\\site-packages (from librosa>=0.7.2->-r C:\\Users\\AubreeWang\\deep-speaker\\requirements.txt (line 2)) (0.11.0)\n",
      "Requirement already satisfied: audioread>=2.1.9 in c:\\users\\aubreewang\\appdata\\local\\programs\\python\\python310\\lib\\site-packages (from librosa>=0.7.2->-r C:\\Users\\AubreeWang\\deep-speaker\\requirements.txt (line 2)) (3.0.0)\n",
      "Requirement already satisfied: pooch>=1.0 in c:\\users\\aubreewang\\appdata\\local\\programs\\python\\python310\\lib\\site-packages (from librosa>=0.7.2->-r C:\\Users\\AubreeWang\\deep-speaker\\requirements.txt (line 2)) (1.6.0)\n",
      "Requirement already satisfied: joblib>=0.14 in c:\\users\\aubreewang\\appdata\\local\\programs\\python\\python310\\lib\\site-packages (from librosa>=0.7.2->-r C:\\Users\\AubreeWang\\deep-speaker\\requirements.txt (line 2)) (1.2.0)\n",
      "Requirement already satisfied: decorator>=4.0.10 in c:\\users\\aubreewang\\appdata\\local\\programs\\python\\python310\\lib\\site-packages (from librosa>=0.7.2->-r C:\\Users\\AubreeWang\\deep-speaker\\requirements.txt (line 2)) (5.1.1)\n",
      "Requirement already satisfied: colorama in c:\\users\\aubreewang\\appdata\\local\\programs\\python\\python310\\lib\\site-packages (from tqdm>=4.45.0->-r C:\\Users\\AubreeWang\\deep-speaker\\requirements.txt (line 5)) (0.4.6)\n",
      "Requirement already satisfied: pytz>=2020.1 in c:\\users\\aubreewang\\appdata\\local\\programs\\python\\python310\\lib\\site-packages (from pandas>=1.0.3->-r C:\\Users\\AubreeWang\\deep-speaker\\requirements.txt (line 7)) (2022.6)\n",
      "Requirement already satisfied: python-dateutil>=2.8.1 in c:\\users\\aubreewang\\appdata\\local\\programs\\python\\python310\\lib\\site-packages (from pandas>=1.0.3->-r C:\\Users\\AubreeWang\\deep-speaker\\requirements.txt (line 7)) (2.8.2)\n",
      "Requirement already satisfied: kiwisolver>=1.0.1 in c:\\users\\aubreewang\\appdata\\local\\programs\\python\\python310\\lib\\site-packages (from matplotlib>=3.2.1->-r C:\\Users\\AubreeWang\\deep-speaker\\requirements.txt (line 8)) (1.4.4)\n",
      "Requirement already satisfied: cycler>=0.10 in c:\\users\\aubreewang\\appdata\\local\\programs\\python\\python310\\lib\\site-packages (from matplotlib>=3.2.1->-r C:\\Users\\AubreeWang\\deep-speaker\\requirements.txt (line 8)) (0.11.0)\n",
      "Requirement already satisfied: fonttools>=4.22.0 in c:\\users\\aubreewang\\appdata\\local\\programs\\python\\python310\\lib\\site-packages (from matplotlib>=3.2.1->-r C:\\Users\\AubreeWang\\deep-speaker\\requirements.txt (line 8)) (4.37.4)\n",
      "Requirement already satisfied: pillow>=6.2.0 in c:\\users\\aubreewang\\appdata\\local\\programs\\python\\python310\\lib\\site-packages (from matplotlib>=3.2.1->-r C:\\Users\\AubreeWang\\deep-speaker\\requirements.txt (line 8)) (9.2.0)\n",
      "Requirement already satisfied: contourpy>=1.0.1 in c:\\users\\aubreewang\\appdata\\local\\programs\\python\\python310\\lib\\site-packages (from matplotlib>=3.2.1->-r C:\\Users\\AubreeWang\\deep-speaker\\requirements.txt (line 8)) (1.0.5)\n",
      "Requirement already satisfied: pyparsing>=2.2.1 in c:\\users\\aubreewang\\appdata\\local\\programs\\python\\python310\\lib\\site-packages (from matplotlib>=3.2.1->-r C:\\Users\\AubreeWang\\deep-speaker\\requirements.txt (line 8)) (3.0.9)\n",
      "Requirement already satisfied: termcolor>=1.1.0 in c:\\users\\aubreewang\\appdata\\local\\programs\\python\\python310\\lib\\site-packages (from tensorflow->-r C:\\Users\\AubreeWang\\deep-speaker\\requirements.txt (line 9)) (2.1.0)\n",
      "Requirement already satisfied: google-pasta>=0.1.1 in c:\\users\\aubreewang\\appdata\\local\\programs\\python\\python310\\lib\\site-packages (from tensorflow->-r C:\\Users\\AubreeWang\\deep-speaker\\requirements.txt (line 9)) (0.2.0)\n",
      "Requirement already satisfied: tensorflow-estimator<2.11,>=2.10.0 in c:\\users\\aubreewang\\appdata\\local\\programs\\python\\python310\\lib\\site-packages (from tensorflow->-r C:\\Users\\AubreeWang\\deep-speaker\\requirements.txt (line 9)) (2.10.0)\n",
      "Requirement already satisfied: protobuf<3.20,>=3.9.2 in c:\\users\\aubreewang\\appdata\\local\\programs\\python\\python310\\lib\\site-packages (from tensorflow->-r C:\\Users\\AubreeWang\\deep-speaker\\requirements.txt (line 9)) (3.19.6)\n",
      "Requirement already satisfied: grpcio<2.0,>=1.24.3 in c:\\users\\aubreewang\\appdata\\local\\programs\\python\\python310\\lib\\site-packages (from tensorflow->-r C:\\Users\\AubreeWang\\deep-speaker\\requirements.txt (line 9)) (1.50.0)\n",
      "Requirement already satisfied: gast<=0.4.0,>=0.2.1 in c:\\users\\aubreewang\\appdata\\local\\programs\\python\\python310\\lib\\site-packages (from tensorflow->-r C:\\Users\\AubreeWang\\deep-speaker\\requirements.txt (line 9)) (0.4.0)\n",
      "Requirement already satisfied: absl-py>=1.0.0 in c:\\users\\aubreewang\\appdata\\local\\programs\\python\\python310\\lib\\site-packages (from tensorflow->-r C:\\Users\\AubreeWang\\deep-speaker\\requirements.txt (line 9)) (1.3.0)\n",
      "Requirement already satisfied: setuptools in c:\\users\\aubreewang\\appdata\\local\\programs\\python\\python310\\lib\\site-packages (from tensorflow->-r C:\\Users\\AubreeWang\\deep-speaker\\requirements.txt (line 9)) (63.2.0)\n",
      "Requirement already satisfied: tensorflow-io-gcs-filesystem>=0.23.1 in c:\\users\\aubreewang\\appdata\\local\\programs\\python\\python310\\lib\\site-packages (from tensorflow->-r C:\\Users\\AubreeWang\\deep-speaker\\requirements.txt (line 9)) (0.27.0)\n",
      "Requirement already satisfied: opt-einsum>=2.3.2 in c:\\users\\aubreewang\\appdata\\local\\programs\\python\\python310\\lib\\site-packages (from tensorflow->-r C:\\Users\\AubreeWang\\deep-speaker\\requirements.txt (line 9)) (3.3.0)\n",
      "Requirement already satisfied: keras-preprocessing>=1.1.1 in c:\\users\\aubreewang\\appdata\\local\\programs\\python\\python310\\lib\\site-packages (from tensorflow->-r C:\\Users\\AubreeWang\\deep-speaker\\requirements.txt (line 9)) (1.1.2)\n",
      "Requirement already satisfied: wrapt>=1.11.0 in c:\\users\\aubreewang\\appdata\\local\\programs\\python\\python310\\lib\\site-packages (from tensorflow->-r C:\\Users\\AubreeWang\\deep-speaker\\requirements.txt (line 9)) (1.14.1)\n",
      "Requirement already satisfied: typing-extensions>=3.6.6 in c:\\users\\aubreewang\\appdata\\local\\programs\\python\\python310\\lib\\site-packages (from tensorflow->-r C:\\Users\\AubreeWang\\deep-speaker\\requirements.txt (line 9)) (4.4.0)\n",
      "Requirement already satisfied: six>=1.12.0 in c:\\users\\aubreewang\\appdata\\local\\programs\\python\\python310\\lib\\site-packages (from tensorflow->-r C:\\Users\\AubreeWang\\deep-speaker\\requirements.txt (line 9)) (1.16.0)\n",
      "Requirement already satisfied: tensorboard<2.11,>=2.10 in c:\\users\\aubreewang\\appdata\\local\\programs\\python\\python310\\lib\\site-packages (from tensorflow->-r C:\\Users\\AubreeWang\\deep-speaker\\requirements.txt (line 9)) (2.10.1)\n",
      "Requirement already satisfied: flatbuffers>=2.0 in c:\\users\\aubreewang\\appdata\\local\\programs\\python\\python310\\lib\\site-packages (from tensorflow->-r C:\\Users\\AubreeWang\\deep-speaker\\requirements.txt (line 9)) (22.10.26)\n",
      "Requirement already satisfied: astunparse>=1.6.0 in c:\\users\\aubreewang\\appdata\\local\\programs\\python\\python310\\lib\\site-packages (from tensorflow->-r C:\\Users\\AubreeWang\\deep-speaker\\requirements.txt (line 9)) (1.6.3)\n",
      "Requirement already satisfied: h5py>=2.9.0 in c:\\users\\aubreewang\\appdata\\local\\programs\\python\\python310\\lib\\site-packages (from tensorflow->-r C:\\Users\\AubreeWang\\deep-speaker\\requirements.txt (line 9)) (3.7.0)\n",
      "Requirement already satisfied: libclang>=13.0.0 in c:\\users\\aubreewang\\appdata\\local\\programs\\python\\python310\\lib\\site-packages (from tensorflow->-r C:\\Users\\AubreeWang\\deep-speaker\\requirements.txt (line 9)) (14.0.6)\n",
      "Requirement already satisfied: llvmlite<0.40,>=0.39.0dev0 in c:\\users\\aubreewang\\appdata\\local\\programs\\python\\python310\\lib\\site-packages (from numba>=0.48->-r C:\\Users\\AubreeWang\\deep-speaker\\requirements.txt (line 12)) (0.39.1)\n",
      "Requirement already satisfied: wheel<1.0,>=0.23.0 in c:\\users\\aubreewang\\appdata\\local\\programs\\python\\python310\\lib\\site-packages (from astunparse>=1.6.0->tensorflow->-r C:\\Users\\AubreeWang\\deep-speaker\\requirements.txt (line 9)) (0.38.3)\n",
      "Requirement already satisfied: requests>=2.19.0 in c:\\users\\aubreewang\\appdata\\local\\programs\\python\\python310\\lib\\site-packages (from pooch>=1.0->librosa>=0.7.2->-r C:\\Users\\AubreeWang\\deep-speaker\\requirements.txt (line 2)) (2.28.1)\n",
      "Requirement already satisfied: appdirs>=1.3.0 in c:\\users\\aubreewang\\appdata\\local\\programs\\python\\python310\\lib\\site-packages (from pooch>=1.0->librosa>=0.7.2->-r C:\\Users\\AubreeWang\\deep-speaker\\requirements.txt (line 2)) (1.4.4)\n",
      "Requirement already satisfied: threadpoolctl>=2.0.0 in c:\\users\\aubreewang\\appdata\\local\\programs\\python\\python310\\lib\\site-packages (from scikit-learn>=0.19.1->librosa>=0.7.2->-r C:\\Users\\AubreeWang\\deep-speaker\\requirements.txt (line 2)) (3.1.0)\n",
      "Requirement already satisfied: cffi>=1.0 in c:\\users\\aubreewang\\appdata\\local\\programs\\python\\python310\\lib\\site-packages (from soundfile>=0.10.2->librosa>=0.7.2->-r C:\\Users\\AubreeWang\\deep-speaker\\requirements.txt (line 2)) (1.15.1)\n",
      "Requirement already satisfied: tensorboard-data-server<0.7.0,>=0.6.0 in c:\\users\\aubreewang\\appdata\\local\\programs\\python\\python310\\lib\\site-packages (from tensorboard<2.11,>=2.10->tensorflow->-r C:\\Users\\AubreeWang\\deep-speaker\\requirements.txt (line 9)) (0.6.1)\n",
      "Requirement already satisfied: google-auth-oauthlib<0.5,>=0.4.1 in c:\\users\\aubreewang\\appdata\\local\\programs\\python\\python310\\lib\\site-packages (from tensorboard<2.11,>=2.10->tensorflow->-r C:\\Users\\AubreeWang\\deep-speaker\\requirements.txt (line 9)) (0.4.6)\n",
      "Requirement already satisfied: werkzeug>=1.0.1 in c:\\users\\aubreewang\\appdata\\local\\programs\\python\\python310\\lib\\site-packages (from tensorboard<2.11,>=2.10->tensorflow->-r C:\\Users\\AubreeWang\\deep-speaker\\requirements.txt (line 9)) (2.2.2)\n",
      "Requirement already satisfied: google-auth<3,>=1.6.3 in c:\\users\\aubreewang\\appdata\\local\\programs\\python\\python310\\lib\\site-packages (from tensorboard<2.11,>=2.10->tensorflow->-r C:\\Users\\AubreeWang\\deep-speaker\\requirements.txt (line 9)) (2.14.1)\n",
      "Requirement already satisfied: markdown>=2.6.8 in c:\\users\\aubreewang\\appdata\\local\\programs\\python\\python310\\lib\\site-packages (from tensorboard<2.11,>=2.10->tensorflow->-r C:\\Users\\AubreeWang\\deep-speaker\\requirements.txt (line 9)) (3.4.1)\n",
      "Requirement already satisfied: tensorboard-plugin-wit>=1.6.0 in c:\\users\\aubreewang\\appdata\\local\\programs\\python\\python310\\lib\\site-packages (from tensorboard<2.11,>=2.10->tensorflow->-r C:\\Users\\AubreeWang\\deep-speaker\\requirements.txt (line 9)) (1.8.1)\n",
      "Requirement already satisfied: pycparser in c:\\users\\aubreewang\\appdata\\local\\programs\\python\\python310\\lib\\site-packages (from cffi>=1.0->soundfile>=0.10.2->librosa>=0.7.2->-r C:\\Users\\AubreeWang\\deep-speaker\\requirements.txt (line 2)) (2.21)\n",
      "Requirement already satisfied: rsa<5,>=3.1.4 in c:\\users\\aubreewang\\appdata\\local\\programs\\python\\python310\\lib\\site-packages (from google-auth<3,>=1.6.3->tensorboard<2.11,>=2.10->tensorflow->-r C:\\Users\\AubreeWang\\deep-speaker\\requirements.txt (line 9)) (4.9)\n",
      "Requirement already satisfied: pyasn1-modules>=0.2.1 in c:\\users\\aubreewang\\appdata\\local\\programs\\python\\python310\\lib\\site-packages (from google-auth<3,>=1.6.3->tensorboard<2.11,>=2.10->tensorflow->-r C:\\Users\\AubreeWang\\deep-speaker\\requirements.txt (line 9)) (0.2.8)\n",
      "Requirement already satisfied: cachetools<6.0,>=2.0.0 in c:\\users\\aubreewang\\appdata\\local\\programs\\python\\python310\\lib\\site-packages (from google-auth<3,>=1.6.3->tensorboard<2.11,>=2.10->tensorflow->-r C:\\Users\\AubreeWang\\deep-speaker\\requirements.txt (line 9)) (5.2.0)\n",
      "Requirement already satisfied: requests-oauthlib>=0.7.0 in c:\\users\\aubreewang\\appdata\\local\\programs\\python\\python310\\lib\\site-packages (from google-auth-oauthlib<0.5,>=0.4.1->tensorboard<2.11,>=2.10->tensorflow->-r C:\\Users\\AubreeWang\\deep-speaker\\requirements.txt (line 9)) (1.3.1)\n",
      "Requirement already satisfied: charset-normalizer<3,>=2 in c:\\users\\aubreewang\\appdata\\local\\programs\\python\\python310\\lib\\site-packages (from requests>=2.19.0->pooch>=1.0->librosa>=0.7.2->-r C:\\Users\\AubreeWang\\deep-speaker\\requirements.txt (line 2)) (2.1.1)\n",
      "Requirement already satisfied: urllib3<1.27,>=1.21.1 in c:\\users\\aubreewang\\appdata\\local\\programs\\python\\python310\\lib\\site-packages (from requests>=2.19.0->pooch>=1.0->librosa>=0.7.2->-r C:\\Users\\AubreeWang\\deep-speaker\\requirements.txt (line 2)) (1.26.12)\n",
      "Requirement already satisfied: certifi>=2017.4.17 in c:\\users\\aubreewang\\appdata\\local\\programs\\python\\python310\\lib\\site-packages (from requests>=2.19.0->pooch>=1.0->librosa>=0.7.2->-r C:\\Users\\AubreeWang\\deep-speaker\\requirements.txt (line 2)) (2022.9.24)\n",
      "Requirement already satisfied: idna<4,>=2.5 in c:\\users\\aubreewang\\appdata\\local\\programs\\python\\python310\\lib\\site-packages (from requests>=2.19.0->pooch>=1.0->librosa>=0.7.2->-r C:\\Users\\AubreeWang\\deep-speaker\\requirements.txt (line 2)) (3.4)\n",
      "Requirement already satisfied: MarkupSafe>=2.1.1 in c:\\users\\aubreewang\\appdata\\local\\programs\\python\\python310\\lib\\site-packages (from werkzeug>=1.0.1->tensorboard<2.11,>=2.10->tensorflow->-r C:\\Users\\AubreeWang\\deep-speaker\\requirements.txt (line 9)) (2.1.1)\n",
      "Requirement already satisfied: pyasn1<0.5.0,>=0.4.6 in c:\\users\\aubreewang\\appdata\\local\\programs\\python\\python310\\lib\\site-packages (from pyasn1-modules>=0.2.1->google-auth<3,>=1.6.3->tensorboard<2.11,>=2.10->tensorflow->-r C:\\Users\\AubreeWang\\deep-speaker\\requirements.txt (line 9)) (0.4.8)\n",
      "Requirement already satisfied: oauthlib>=3.0.0 in c:\\users\\aubreewang\\appdata\\local\\programs\\python\\python310\\lib\\site-packages (from requests-oauthlib>=0.7.0->google-auth-oauthlib<0.5,>=0.4.1->tensorboard<2.11,>=2.10->tensorflow->-r C:\\Users\\AubreeWang\\deep-speaker\\requirements.txt (line 9)) (3.2.2)\n",
      "Note: you may need to restart the kernel to use updated packages.\n"
     ]
    },
    {
     "name": "stderr",
     "output_type": "stream",
     "text": [
      "WARNING: Ignoring invalid distribution -atplotlib (c:\\users\\aubreewang\\appdata\\local\\programs\\python\\python310\\lib\\site-packages)\n",
      "WARNING: Ignoring invalid distribution -atplotlib (c:\\users\\aubreewang\\appdata\\local\\programs\\python\\python310\\lib\\site-packages)\n",
      "WARNING: Ignoring invalid distribution -atplotlib (c:\\users\\aubreewang\\appdata\\local\\programs\\python\\python310\\lib\\site-packages)\n",
      "WARNING: Ignoring invalid distribution -atplotlib (c:\\users\\aubreewang\\appdata\\local\\programs\\python\\python310\\lib\\site-packages)\n",
      "WARNING: Ignoring invalid distribution -atplotlib (c:\\users\\aubreewang\\appdata\\local\\programs\\python\\python310\\lib\\site-packages)\n",
      "WARNING: Ignoring invalid distribution -atplotlib (c:\\users\\aubreewang\\appdata\\local\\programs\\python\\python310\\lib\\site-packages)\n",
      "\n",
      "[notice] A new release of pip available: 22.3.1 -> 23.1.2\n",
      "[notice] To update, run: python.exe -m pip install --upgrade pip\n"
     ]
    }
   ],
   "source": [
    "%pip install -r C:\\Users\\AubreeWang\\deep-speaker\\requirements.txt"
   ]
  },
  {
   "cell_type": "code",
   "execution_count": 2,
   "id": "f1ca407a",
   "metadata": {},
   "outputs": [],
   "source": [
    "import os\n",
    "import sys\n",
    "#import random\n",
    "import re\n",
    "import glob\n",
    "from tqdm import tqdm\n",
    "import importlib\n",
    "from collections import Counter\n",
    "\n",
    "import numpy as np\n",
    "import pandas as pd\n",
    "from sklearn.discriminant_analysis import LinearDiscriminantAnalysis\n",
    "import matplotlib.pyplot as plt\n",
    "#import seaborn as sns\n",
    "import umap\n",
    "\n",
    "repos_deep_speaker_dir = os.path.dirname(os.getcwd())\n",
    "sys.path.append(repos_deep_speaker_dir)\n",
    "repos_dir = os.path.dirname(repos_deep_speaker_dir)\n",
    "sys.path.append(repos_dir)\n",
    "from deep_speaker.test import batch_cosine_similarity\n",
    "# print(sys.path)\n",
    "# from sak import speaker_embeddings as se\n",
    "# from sak import signal_processing as sp\n",
    "# from sak import vctk\n"
   ]
  },
  {
   "cell_type": "code",
   "execution_count": 3,
   "id": "203e5325",
   "metadata": {},
   "outputs": [],
   "source": [
    "# the directory wherey you downloaded VCTK. \n",
    "vctk_dir = r\"C:\\Users\\AubreeWang\\Downloads\\DS_10283_3443\\VCTK-Corpus-0.92\"\n",
    "# the directory where you work i.e. save speaker embeddings.\n",
    "work_dir = r\"C:\\Users\\AubreeWang\\deep-speaker\\deep_speaker\"\n",
    "\n",
    "# you should download the deep speaker model\n",
    "# and describe the path here.\n",
    "checkpoint_path = r'C:\\Users\\AubreeWang\\deep-speaker\\deep_speaker\\ResCNN_triplet_training_checkpoint_265.h5'"
   ]
  },
  {
   "attachments": {},
   "cell_type": "markdown",
   "id": "1a90cb4b",
   "metadata": {},
   "source": [
    "## VCTK embedding space."
   ]
  },
  {
   "cell_type": "code",
   "execution_count": 3,
   "id": "bac81a51",
   "metadata": {},
   "outputs": [],
   "source": [
    "def load_vctk_metadata():\n",
    "    with open(os.path.join(vctk_dir, 'speaker-info.txt')) as f:\n",
    "        lines = f.read().strip().split('\\n')\n",
    "    \n",
    "    # remove the header.\n",
    "    # ID  AGE  GENDER  ACCENTS  REGION COMMENTS\n",
    "    header = ['id', 'age', 'gender', 'accent', 'region']\n",
    "    lines = lines[1:]\n",
    "\n",
    "    ## make a database of metadata.\n",
    "    meta = pd.DataFrame([], columns=header)\n",
    "    for i, line in enumerate(lines):\n",
    "        result = re.findall(r'(\\w+)\\s+(\\d+)\\s+(M|F)\\s+(\\w+)\\s*([\\w\\s]*)', line)\n",
    "        result = {result[0]}\n",
    "        meta = pd.concat([meta, pd.DataFrame(result, columns=header)], ignore_index=True)\n",
    "\n",
    "    return meta"
   ]
  },
  {
   "cell_type": "code",
   "execution_count": 4,
   "id": "4d20f0fa",
   "metadata": {},
   "outputs": [
    {
     "data": {
      "text/html": [
       "<div>\n",
       "<style scoped>\n",
       "    .dataframe tbody tr th:only-of-type {\n",
       "        vertical-align: middle;\n",
       "    }\n",
       "\n",
       "    .dataframe tbody tr th {\n",
       "        vertical-align: top;\n",
       "    }\n",
       "\n",
       "    .dataframe thead th {\n",
       "        text-align: right;\n",
       "    }\n",
       "</style>\n",
       "<table border=\"1\" class=\"dataframe\">\n",
       "  <thead>\n",
       "    <tr style=\"text-align: right;\">\n",
       "      <th></th>\n",
       "      <th>id</th>\n",
       "      <th>age</th>\n",
       "      <th>gender</th>\n",
       "      <th>accent</th>\n",
       "      <th>region</th>\n",
       "    </tr>\n",
       "  </thead>\n",
       "  <tbody>\n",
       "    <tr>\n",
       "      <th>0</th>\n",
       "      <td>p225</td>\n",
       "      <td>23</td>\n",
       "      <td>F</td>\n",
       "      <td>English</td>\n",
       "      <td>Southern  England</td>\n",
       "    </tr>\n",
       "    <tr>\n",
       "      <th>1</th>\n",
       "      <td>p226</td>\n",
       "      <td>22</td>\n",
       "      <td>M</td>\n",
       "      <td>English</td>\n",
       "      <td>Surrey</td>\n",
       "    </tr>\n",
       "    <tr>\n",
       "      <th>2</th>\n",
       "      <td>p227</td>\n",
       "      <td>38</td>\n",
       "      <td>M</td>\n",
       "      <td>English</td>\n",
       "      <td>Cumbria</td>\n",
       "    </tr>\n",
       "    <tr>\n",
       "      <th>3</th>\n",
       "      <td>p228</td>\n",
       "      <td>22</td>\n",
       "      <td>F</td>\n",
       "      <td>English</td>\n",
       "      <td>Southern  England</td>\n",
       "    </tr>\n",
       "    <tr>\n",
       "      <th>4</th>\n",
       "      <td>p229</td>\n",
       "      <td>23</td>\n",
       "      <td>F</td>\n",
       "      <td>English</td>\n",
       "      <td>Southern  England</td>\n",
       "    </tr>\n",
       "    <tr>\n",
       "      <th>...</th>\n",
       "      <td>...</td>\n",
       "      <td>...</td>\n",
       "      <td>...</td>\n",
       "      <td>...</td>\n",
       "      <td>...</td>\n",
       "    </tr>\n",
       "    <tr>\n",
       "      <th>105</th>\n",
       "      <td>p363</td>\n",
       "      <td>22</td>\n",
       "      <td>M</td>\n",
       "      <td>Canadian</td>\n",
       "      <td>Toronto</td>\n",
       "    </tr>\n",
       "    <tr>\n",
       "      <th>106</th>\n",
       "      <td>p364</td>\n",
       "      <td>23</td>\n",
       "      <td>M</td>\n",
       "      <td>Irish</td>\n",
       "      <td>Donegal</td>\n",
       "    </tr>\n",
       "    <tr>\n",
       "      <th>107</th>\n",
       "      <td>p374</td>\n",
       "      <td>28</td>\n",
       "      <td>M</td>\n",
       "      <td>Australian</td>\n",
       "      <td>English</td>\n",
       "    </tr>\n",
       "    <tr>\n",
       "      <th>108</th>\n",
       "      <td>p376</td>\n",
       "      <td>22</td>\n",
       "      <td>M</td>\n",
       "      <td>Indian</td>\n",
       "      <td></td>\n",
       "    </tr>\n",
       "    <tr>\n",
       "      <th>109</th>\n",
       "      <td>s5</td>\n",
       "      <td>22</td>\n",
       "      <td>F</td>\n",
       "      <td>British</td>\n",
       "      <td></td>\n",
       "    </tr>\n",
       "  </tbody>\n",
       "</table>\n",
       "<p>110 rows × 5 columns</p>\n",
       "</div>"
      ],
      "text/plain": [
       "       id age gender      accent             region\n",
       "0    p225  23      F     English  Southern  England\n",
       "1    p226  22      M     English             Surrey\n",
       "2    p227  38      M     English            Cumbria\n",
       "3    p228  22      F     English  Southern  England\n",
       "4    p229  23      F     English  Southern  England\n",
       "..    ...  ..    ...         ...                ...\n",
       "105  p363  22      M    Canadian            Toronto\n",
       "106  p364  23      M       Irish            Donegal\n",
       "107  p374  28      M  Australian          English  \n",
       "108  p376  22      M      Indian                   \n",
       "109    s5  22      F     British                   \n",
       "\n",
       "[110 rows x 5 columns]"
      ]
     },
     "execution_count": 4,
     "metadata": {},
     "output_type": "execute_result"
    }
   ],
   "source": [
    "vctk_wavs_dir = os.path.join(vctk_dir, 'wav16')\n",
    "vctk_embeddings_dir = os.path.join(work_dir, 'embeddings', 'vctk')\n",
    "\n",
    "# check vctk meta data. \n",
    "meta = load_vctk_metadata()\n",
    "meta"
   ]
  },
  {
   "cell_type": "code",
   "execution_count": 5,
   "id": "2f709c06",
   "metadata": {},
   "outputs": [
    {
     "data": {
      "text/plain": [
       "[('F', 18), ('M', 15)]"
      ]
     },
     "execution_count": 5,
     "metadata": {},
     "output_type": "execute_result"
    }
   ],
   "source": [
    "## analyse the data\n",
    "meta_ = meta[meta['accent'] == 'English']\n",
    "c = Counter(meta_['gender'])\n",
    "c.most_common()"
   ]
  },
  {
   "attachments": {},
   "cell_type": "markdown",
   "id": "531efd9e",
   "metadata": {},
   "source": [
    "## extract speaker embeddings."
   ]
  },
  {
   "cell_type": "code",
   "execution_count": 6,
   "id": "edac202f",
   "metadata": {},
   "outputs": [],
   "source": [
    "## test the sample code given by the author."
   ]
  },
  {
   "cell_type": "code",
   "execution_count": 7,
   "id": "3d4e590f",
   "metadata": {},
   "outputs": [],
   "source": [
    "## make a function which extract speaker embeddings from a wav file.\n",
    "def extract_speaker_embedding(wav_path):\n",
    "    speaker_embedding = ...\n",
    "    return speaker_embedding"
   ]
  },
  {
   "cell_type": "code",
   "execution_count": 8,
   "id": "ce58e58c",
   "metadata": {},
   "outputs": [],
   "source": [
    "## extract speaker embeddings from all the target data."
   ]
  },
  {
   "attachments": {},
   "cell_type": "markdown",
   "id": "d2869d03",
   "metadata": {},
   "source": [
    "## visualize."
   ]
  },
  {
   "cell_type": "code",
   "execution_count": 9,
   "id": "5eb2eda5",
   "metadata": {},
   "outputs": [],
   "source": [
    "# use t-sne or UMAP to visualize the speaker embeddings."
   ]
  }
 ],
 "metadata": {
  "kernelspec": {
   "display_name": "Python 3",
   "language": "python",
   "name": "python3"
  },
  "language_info": {
   "codemirror_mode": {
    "name": "ipython",
    "version": 3
   },
   "file_extension": ".py",
   "mimetype": "text/x-python",
   "name": "python",
   "nbconvert_exporter": "python",
   "pygments_lexer": "ipython3",
   "version": "3.10.8"
  }
 },
 "nbformat": 4,
 "nbformat_minor": 5
}
