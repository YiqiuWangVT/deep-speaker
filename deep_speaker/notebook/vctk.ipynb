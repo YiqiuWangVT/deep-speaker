{
 "cells": [
  {
   "cell_type": "code",
   "execution_count": 1,
   "id": "f1ca407a",
   "metadata": {},
   "outputs": [
    {
     "name": "stderr",
     "output_type": "stream",
     "text": [
      "/home/akikun/miniconda3/envs/evc/lib/python3.8/site-packages/tqdm/auto.py:21: TqdmWarning: IProgress not found. Please update jupyter and ipywidgets. See https://ipywidgets.readthedocs.io/en/stable/user_install.html\n",
      "  from .autonotebook import tqdm as notebook_tqdm\n"
     ]
    }
   ],
   "source": [
    "import os\n",
    "import sys\n",
    "#import random\n",
    "import re\n",
    "import glob\n",
    "from tqdm import tqdm\n",
    "import importlib\n",
    "from collections import Counter\n",
    "\n",
    "import numpy as np\n",
    "import pandas as pd\n",
    "from sklearn.discriminant_analysis import LinearDiscriminantAnalysis\n",
    "import matplotlib.pyplot as plt\n",
    "#import seaborn as sns\n",
    "import umap\n",
    "\n",
    "repos_deep_speaker_dir = os.path.dirname(os.getcwd())\n",
    "sys.path.append(repos_deep_speaker_dir)\n",
    "from deep_speaker.test import batch_cosine_similarity\n",
    "\n",
    "repos_dir = os.path.dirname(repos_deep_speaker_dir)\n",
    "sys.path.append(repos_dir)\n",
    "# from sak import speaker_embeddings as se\n",
    "# from sak import signal_processing as sp\n",
    "# from sak import vctk"
   ]
  },
  {
   "cell_type": "code",
   "execution_count": 2,
   "id": "203e5325",
   "metadata": {},
   "outputs": [],
   "source": [
    "# the directory wherey you downloaded VCTK. \n",
    "vctk_dir = r'/opt/share/common/db/audio_corpora/vctk'\n",
    "# the directory where you work i.e. save speaker embeddings.\n",
    "work_dir = r'/opt/share/tts_local_share/projects/evc/speaker_embeddings'\n",
    "\n",
    "# you should download the deep speaker model\n",
    "# and describe the path here.\n",
    "checkpoint_path = r'/opt/share/tts_local_share/projects/evc/speaker_embeddings/models/ResCNN_triplet_training_checkpoint_265.h5'"
   ]
  },
  {
   "cell_type": "markdown",
   "id": "1a90cb4b",
   "metadata": {},
   "source": [
    "## VCTK embedding space."
   ]
  },
  {
   "cell_type": "code",
   "execution_count": 3,
   "id": "bac81a51",
   "metadata": {},
   "outputs": [],
   "source": [
    "def load_vctk_metadata():\n",
    "    with open(os.path.join(vctk_dir, 'speaker-info.txt')) as f:\n",
    "        lines = f.read().strip().split('\\n')\n",
    "    \n",
    "    # remove the header.\n",
    "    # ID  AGE  GENDER  ACCENTS  REGION COMMENTS\n",
    "    header = ['id', 'age', 'gender', 'accent', 'region']\n",
    "    lines = lines[1:]\n",
    "\n",
    "    ## make a database of metadata.\n",
    "    meta = pd.DataFrame([], columns=header)\n",
    "    for i, line in enumerate(lines):\n",
    "        result = re.findall(r'(\\w+)\\s+(\\d+)\\s+(M|F)\\s+(\\w+)\\s*([\\w\\s]*)', line)\n",
    "        result = {result[0]}\n",
    "        meta = pd.concat([meta, pd.DataFrame(result, columns=header)], ignore_index=True)\n",
    "\n",
    "    return meta"
   ]
  },
  {
   "cell_type": "code",
   "execution_count": 4,
   "id": "4d20f0fa",
   "metadata": {},
   "outputs": [
    {
     "data": {
      "text/html": [
       "<div>\n",
       "<style scoped>\n",
       "    .dataframe tbody tr th:only-of-type {\n",
       "        vertical-align: middle;\n",
       "    }\n",
       "\n",
       "    .dataframe tbody tr th {\n",
       "        vertical-align: top;\n",
       "    }\n",
       "\n",
       "    .dataframe thead th {\n",
       "        text-align: right;\n",
       "    }\n",
       "</style>\n",
       "<table border=\"1\" class=\"dataframe\">\n",
       "  <thead>\n",
       "    <tr style=\"text-align: right;\">\n",
       "      <th></th>\n",
       "      <th>id</th>\n",
       "      <th>age</th>\n",
       "      <th>gender</th>\n",
       "      <th>accent</th>\n",
       "      <th>region</th>\n",
       "    </tr>\n",
       "  </thead>\n",
       "  <tbody>\n",
       "    <tr>\n",
       "      <th>0</th>\n",
       "      <td>p225</td>\n",
       "      <td>23</td>\n",
       "      <td>F</td>\n",
       "      <td>English</td>\n",
       "      <td>Southern  England</td>\n",
       "    </tr>\n",
       "    <tr>\n",
       "      <th>1</th>\n",
       "      <td>p226</td>\n",
       "      <td>22</td>\n",
       "      <td>M</td>\n",
       "      <td>English</td>\n",
       "      <td>Surrey</td>\n",
       "    </tr>\n",
       "    <tr>\n",
       "      <th>2</th>\n",
       "      <td>p227</td>\n",
       "      <td>38</td>\n",
       "      <td>M</td>\n",
       "      <td>English</td>\n",
       "      <td>Cumbria</td>\n",
       "    </tr>\n",
       "    <tr>\n",
       "      <th>3</th>\n",
       "      <td>p228</td>\n",
       "      <td>22</td>\n",
       "      <td>F</td>\n",
       "      <td>English</td>\n",
       "      <td>Southern  England</td>\n",
       "    </tr>\n",
       "    <tr>\n",
       "      <th>4</th>\n",
       "      <td>p229</td>\n",
       "      <td>23</td>\n",
       "      <td>F</td>\n",
       "      <td>English</td>\n",
       "      <td>Southern  England</td>\n",
       "    </tr>\n",
       "    <tr>\n",
       "      <th>...</th>\n",
       "      <td>...</td>\n",
       "      <td>...</td>\n",
       "      <td>...</td>\n",
       "      <td>...</td>\n",
       "      <td>...</td>\n",
       "    </tr>\n",
       "    <tr>\n",
       "      <th>105</th>\n",
       "      <td>p363</td>\n",
       "      <td>22</td>\n",
       "      <td>M</td>\n",
       "      <td>Canadian</td>\n",
       "      <td>Toronto</td>\n",
       "    </tr>\n",
       "    <tr>\n",
       "      <th>106</th>\n",
       "      <td>p364</td>\n",
       "      <td>23</td>\n",
       "      <td>M</td>\n",
       "      <td>Irish</td>\n",
       "      <td>Donegal</td>\n",
       "    </tr>\n",
       "    <tr>\n",
       "      <th>107</th>\n",
       "      <td>p374</td>\n",
       "      <td>28</td>\n",
       "      <td>M</td>\n",
       "      <td>Australian</td>\n",
       "      <td>English</td>\n",
       "    </tr>\n",
       "    <tr>\n",
       "      <th>108</th>\n",
       "      <td>p376</td>\n",
       "      <td>22</td>\n",
       "      <td>M</td>\n",
       "      <td>Indian</td>\n",
       "      <td></td>\n",
       "    </tr>\n",
       "    <tr>\n",
       "      <th>109</th>\n",
       "      <td>s5</td>\n",
       "      <td>22</td>\n",
       "      <td>F</td>\n",
       "      <td>British</td>\n",
       "      <td></td>\n",
       "    </tr>\n",
       "  </tbody>\n",
       "</table>\n",
       "<p>110 rows × 5 columns</p>\n",
       "</div>"
      ],
      "text/plain": [
       "       id age gender      accent             region\n",
       "0    p225  23      F     English  Southern  England\n",
       "1    p226  22      M     English             Surrey\n",
       "2    p227  38      M     English            Cumbria\n",
       "3    p228  22      F     English  Southern  England\n",
       "4    p229  23      F     English  Southern  England\n",
       "..    ...  ..    ...         ...                ...\n",
       "105  p363  22      M    Canadian            Toronto\n",
       "106  p364  23      M       Irish            Donegal\n",
       "107  p374  28      M  Australian          English  \n",
       "108  p376  22      M      Indian                   \n",
       "109    s5  22      F     British                   \n",
       "\n",
       "[110 rows x 5 columns]"
      ]
     },
     "execution_count": 4,
     "metadata": {},
     "output_type": "execute_result"
    }
   ],
   "source": [
    "vctk_wavs_dir = os.path.join(vctk_dir, 'wav16')\n",
    "vctk_embeddings_dir = os.path.join(work_dir, 'embeddings', 'vctk')\n",
    "\n",
    "# check vctk meta data. \n",
    "meta = load_vctk_metadata()\n",
    "meta"
   ]
  },
  {
   "cell_type": "code",
   "execution_count": 5,
   "id": "2f709c06",
   "metadata": {},
   "outputs": [
    {
     "data": {
      "text/plain": [
       "[('F', 18), ('M', 15)]"
      ]
     },
     "execution_count": 5,
     "metadata": {},
     "output_type": "execute_result"
    }
   ],
   "source": [
    "## analyse the data\n",
    "meta_ = meta[meta['accent'] == 'English']\n",
    "c = Counter(meta_['gender'])\n",
    "c.most_common()"
   ]
  },
  {
   "cell_type": "markdown",
   "id": "531efd9e",
   "metadata": {},
   "source": [
    "## extract speaker embeddings."
   ]
  },
  {
   "cell_type": "code",
   "execution_count": 6,
   "id": "edac202f",
   "metadata": {},
   "outputs": [],
   "source": [
    "## test the sample code given by the author."
   ]
  },
  {
   "cell_type": "code",
   "execution_count": 7,
   "id": "3d4e590f",
   "metadata": {},
   "outputs": [],
   "source": [
    "## make a function which extract speaker embeddings from a wav file.\n",
    "def extract_speaker_embedding(wav_path):\n",
    "    speaker_embedding = ...\n",
    "    return speaker_embedding"
   ]
  },
  {
   "cell_type": "code",
   "execution_count": 8,
   "id": "ce58e58c",
   "metadata": {},
   "outputs": [],
   "source": [
    "## extract speaker embeddings from all the target data."
   ]
  },
  {
   "cell_type": "markdown",
   "id": "d2869d03",
   "metadata": {},
   "source": [
    "## visualize."
   ]
  },
  {
   "cell_type": "code",
   "execution_count": 9,
   "id": "5eb2eda5",
   "metadata": {},
   "outputs": [],
   "source": [
    "# use t-sne or UMAP to visualize the speaker embeddings."
   ]
  }
 ],
 "metadata": {
  "kernelspec": {
   "display_name": "Python 3",
   "language": "python",
   "name": "python3"
  },
  "language_info": {
   "codemirror_mode": {
    "name": "ipython",
    "version": 3
   },
   "file_extension": ".py",
   "mimetype": "text/x-python",
   "name": "python",
   "nbconvert_exporter": "python",
   "pygments_lexer": "ipython3",
   "version": "3.8.16"
  }
 },
 "nbformat": 4,
 "nbformat_minor": 5
}
